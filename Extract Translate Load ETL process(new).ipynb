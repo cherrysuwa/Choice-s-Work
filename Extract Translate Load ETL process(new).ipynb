{
 "cells": [
  {
   "cell_type": "markdown",
   "id": "4dbab311",
   "metadata": {},
   "source": [
    "# SQLITE3\n",
    "* Using my sqlite database to run "
   ]
  },
  {
   "cell_type": "markdown",
   "id": "8f1fe12b",
   "metadata": {},
   "source": [
    "#### Import Libraries"
   ]
  },
  {
   "cell_type": "code",
   "execution_count": 1,
   "id": "e65915fb",
   "metadata": {},
   "outputs": [],
   "source": [
    "import sqlite3\n",
    "import mysql.connector\n",
    "import pymongo\n",
    "import pandas as pd"
   ]
  },
  {
   "cell_type": "markdown",
   "id": "7a516f06",
   "metadata": {},
   "source": [
    "###### Create a database that will hold the the tables and documents"
   ]
  },
  {
   "cell_type": "code",
   "execution_count": 2,
   "id": "de938176",
   "metadata": {},
   "outputs": [],
   "source": [
    "con = sqlite3.connect('demployees.db')"
   ]
  },
  {
   "cell_type": "markdown",
   "id": "bd91908a",
   "metadata": {},
   "source": [
    "###### Put the database in a cursor holder"
   ]
  },
  {
   "cell_type": "code",
   "execution_count": 4,
   "id": "972f2a5b",
   "metadata": {},
   "outputs": [],
   "source": [
    "cursor = con.cursor()"
   ]
  },
  {
   "cell_type": "markdown",
   "id": "40dfa0fb",
   "metadata": {},
   "source": [
    "###### create a table in the cursor folder"
   ]
  },
  {
   "cell_type": "code",
   "execution_count": 5,
   "id": "f437df0a",
   "metadata": {},
   "outputs": [
    {
     "ename": "OperationalError",
     "evalue": "table HR already exists",
     "output_type": "error",
     "traceback": [
      "\u001b[1;31m---------------------------------------------------------------------------\u001b[0m",
      "\u001b[1;31mOperationalError\u001b[0m                          Traceback (most recent call last)",
      "\u001b[1;32m<ipython-input-5-302131bb36a4>\u001b[0m in \u001b[0;36m<module>\u001b[1;34m\u001b[0m\n\u001b[1;32m----> 1\u001b[1;33m \u001b[0mcursor\u001b[0m\u001b[1;33m.\u001b[0m\u001b[0mexecute\u001b[0m\u001b[1;33m(\u001b[0m\u001b[1;34m\"CREATE TABLE HR(id integer PRIMARY KEY, name text, status text, salary real, department text, position text, hireDate text)\"\u001b[0m\u001b[1;33m)\u001b[0m\u001b[1;33m\u001b[0m\u001b[1;33m\u001b[0m\u001b[0m\n\u001b[0m\u001b[0;32m      2\u001b[0m \u001b[0mcon\u001b[0m\u001b[1;33m.\u001b[0m\u001b[0mcommit\u001b[0m\u001b[1;33m(\u001b[0m\u001b[1;33m)\u001b[0m\u001b[1;33m\u001b[0m\u001b[1;33m\u001b[0m\u001b[0m\n",
      "\u001b[1;31mOperationalError\u001b[0m: table HR already exists"
     ]
    }
   ],
   "source": [
    "cursor.execute(\"CREATE TABLE HR(id integer PRIMARY KEY, name text, status text, salary real, department text, position text, hireDate text)\")\n",
    "con.commit()"
   ]
  },
  {
   "cell_type": "markdown",
   "id": "296be5cd",
   "metadata": {},
   "source": [
    "###### create a counter"
   ]
  },
  {
   "cell_type": "code",
   "execution_count": null,
   "id": "34be29d2",
   "metadata": {},
   "outputs": [],
   "source": [
    "counter = True\n",
    "while counter:\n",
    "    user_id = int(input('Enter your ID: '))\n",
    "    name = input('Enter your name: ')\n",
    "    status = input('Enter your status: ')\n",
    "    salary = float(input('Enter your salary: '))\n",
    "    department = input('Enter your department: ')\n",
    "    position = input('Enter your position: ')\n",
    "    date = input('Enter date \"YYYY-M-D\": ')\n",
    "    entities = (user_id,name,status,salary,department,position,date)\n",
    "    cursor.execute(\"INSERT INTO HR(id,name,status,salary,department,position,hireDate) VALUES(?,?,?,?,?,?,?)\",entities)\n",
    "    con.commit()\n",
    "    print('Data has been inserted!!!')\n",
    "    print('Do you want to continue?')\n",
    "    value = int(input(\"Enter 1 to continue and 0 to quit\"))\n",
    "    if value == 1:\n",
    "        pass\n",
    "    elif value == 0:\n",
    "        print('Thank you!!')\n",
    "        counter = False\n",
    "    else:\n",
    "        break\n"
   ]
  },
  {
   "cell_type": "markdown",
   "id": "a66ec03a",
   "metadata": {},
   "source": [
    "###### fetch all the data in your HR table and print in rows and add row numbers"
   ]
  },
  {
   "cell_type": "code",
   "execution_count": 6,
   "id": "6d38839a",
   "metadata": {},
   "outputs": [],
   "source": [
    "cursor.execute('SELECT * FROM HR')\n",
    "rows = cursor.fetchall()"
   ]
  },
  {
   "cell_type": "code",
   "execution_count": 7,
   "id": "6d9fddb9",
   "metadata": {},
   "outputs": [
    {
     "name": "stdout",
     "output_type": "stream",
     "text": [
      "(1, 'Chika Ike', 'Married', 200000.0, 'Engineering', 'Software Engineer', '2021-6-01')\n",
      "1\n",
      "(2, 'Bobby Gold', 'Single', 250000.0, 'Engineering', 'Product Manager', '2021-6-01')\n",
      "2\n",
      "(3, 'Chisom Okorie', 'Single', 200000.0, 'Sales', 'Business Development Officer', '2021-6-1')\n",
      "3\n",
      "(4, 'Nelson White', 'Single', 300000.0, 'Operations', 'Chief Operation Officer', '2021-6-1')\n",
      "4\n",
      "(5, 'Humphrey Cole', 'Married', 400000.0, 'Finance', 'Chief Finance Officer', '2021-6-1')\n",
      "5\n"
     ]
    }
   ],
   "source": [
    "for row in rows:\n",
    "    print(row)\n",
    "    print(row[0])"
   ]
  },
  {
   "cell_type": "markdown",
   "id": "179aab57",
   "metadata": {},
   "source": [
    "###### put in list, \n",
    "* add the list to a dictionary in rows and print dictionary"
   ]
  },
  {
   "cell_type": "code",
   "execution_count": 8,
   "id": "7123752b",
   "metadata": {},
   "outputs": [],
   "source": [
    "mylist = []"
   ]
  },
  {
   "cell_type": "code",
   "execution_count": 9,
   "id": "6bc5b54f",
   "metadata": {},
   "outputs": [],
   "source": [
    "for row in rows:\n",
    "    mylist.append({'id':row[0], 'name':row[1], 'status':row[2], 'salary':row[3], 'department':row[4], 'position':row[5], 'data':row[6]})"
   ]
  },
  {
   "cell_type": "code",
   "execution_count": 10,
   "id": "b7255c7b",
   "metadata": {},
   "outputs": [
    {
     "name": "stdout",
     "output_type": "stream",
     "text": [
      "[{'id': 1, 'name': 'Chika Ike', 'status': 'Married', 'salary': 200000.0, 'department': 'Engineering', 'position': 'Software Engineer', 'data': '2021-6-01'}, {'id': 2, 'name': 'Bobby Gold', 'status': 'Single', 'salary': 250000.0, 'department': 'Engineering', 'position': 'Product Manager', 'data': '2021-6-01'}, {'id': 3, 'name': 'Chisom Okorie', 'status': 'Single', 'salary': 200000.0, 'department': 'Sales', 'position': 'Business Development Officer', 'data': '2021-6-1'}, {'id': 4, 'name': 'Nelson White', 'status': 'Single', 'salary': 300000.0, 'department': 'Operations', 'position': 'Chief Operation Officer', 'data': '2021-6-1'}, {'id': 5, 'name': 'Humphrey Cole', 'status': 'Married', 'salary': 400000.0, 'department': 'Finance', 'position': 'Chief Finance Officer', 'data': '2021-6-1'}]\n"
     ]
    }
   ],
   "source": [
    "print(mylist)"
   ]
  },
  {
   "cell_type": "markdown",
   "id": "b2ffe6ab",
   "metadata": {},
   "source": [
    "###### put the data list into a dataframe and print"
   ]
  },
  {
   "cell_type": "code",
   "execution_count": 11,
   "id": "591c6933",
   "metadata": {},
   "outputs": [],
   "source": [
    "sqlite3_df = pd.DataFrame(mylist)"
   ]
  },
  {
   "cell_type": "code",
   "execution_count": 12,
   "id": "6debbf0e",
   "metadata": {},
   "outputs": [
    {
     "name": "stdout",
     "output_type": "stream",
     "text": [
      "   id           name   status    salary   department  \\\n",
      "0   1      Chika Ike  Married  200000.0  Engineering   \n",
      "1   2     Bobby Gold   Single  250000.0  Engineering   \n",
      "2   3  Chisom Okorie   Single  200000.0        Sales   \n",
      "3   4   Nelson White   Single  300000.0   Operations   \n",
      "4   5  Humphrey Cole  Married  400000.0      Finance   \n",
      "\n",
      "                       position       data  \n",
      "0             Software Engineer  2021-6-01  \n",
      "1               Product Manager  2021-6-01  \n",
      "2  Business Development Officer   2021-6-1  \n",
      "3       Chief Operation Officer   2021-6-1  \n",
      "4         Chief Finance Officer   2021-6-1  \n"
     ]
    }
   ],
   "source": [
    "print(sqlite3_df)"
   ]
  },
  {
   "cell_type": "markdown",
   "id": "d1251134",
   "metadata": {},
   "source": [
    "# MYSQL Data Source\n",
    "\n",
    "* using xampp to run and Myphp to view"
   ]
  },
  {
   "cell_type": "markdown",
   "id": "3e8172ce",
   "metadata": {},
   "source": [
    "###### link to the sql connector "
   ]
  },
  {
   "cell_type": "code",
   "execution_count": null,
   "id": "266baf19",
   "metadata": {},
   "outputs": [],
   "source": [
    "mydb = mysql.connector.connect(host=\"localhost\",user=\"root\",password=\"\")"
   ]
  },
  {
   "cell_type": "code",
   "execution_count": null,
   "id": "2871f920",
   "metadata": {},
   "outputs": [],
   "source": [
    "mydb"
   ]
  },
  {
   "cell_type": "code",
   "execution_count": null,
   "id": "99f39cf3",
   "metadata": {},
   "outputs": [],
   "source": [
    "cursor = mydb.cursor()"
   ]
  },
  {
   "cell_type": "markdown",
   "id": "d6f8e807",
   "metadata": {},
   "source": [
    "###### steps to creating table\n",
    "* create a database and \n",
    "* connect the database to the sql connector \n",
    "* create a cursor for the database\n",
    "* creating a table in the cursor"
   ]
  },
  {
   "cell_type": "code",
   "execution_count": null,
   "id": "17f64463",
   "metadata": {},
   "outputs": [],
   "source": [
    "cursor.execute(\"CREATE DATABASE allemployees\")"
   ]
  },
  {
   "cell_type": "code",
   "execution_count": null,
   "id": "92463177",
   "metadata": {},
   "outputs": [],
   "source": [
    "mydb = mysql.connector.connect(host=\"localhost\",user=\"root\",password=\"\",database=\"allemployees\")"
   ]
  },
  {
   "cell_type": "code",
   "execution_count": null,
   "id": "822423d9",
   "metadata": {},
   "outputs": [],
   "source": [
    "cursor = mydb.cursor()"
   ]
  },
  {
   "cell_type": "code",
   "execution_count": null,
   "id": "e3233147",
   "metadata": {},
   "outputs": [],
   "source": [
    "cursor.execute(\"CREATE TABLE IT (id INT AUTO_INCREMENT PRIMARY KEY, name VARCHAR(255), status VARCHAR(255), salary INT, department VARCHAR(255), position VARCHAR(255), high_date VARCHAR(255))\")\n",
    "mydb.commit()"
   ]
  },
  {
   "cell_type": "markdown",
   "id": "d7dee2ff",
   "metadata": {},
   "source": [
    "###### create a counter"
   ]
  },
  {
   "cell_type": "code",
   "execution_count": null,
   "id": "28ce6dff",
   "metadata": {},
   "outputs": [],
   "source": [
    "counter = True\n",
    "while counter:\n",
    "    name = input('Enter your name: ')\n",
    "    status = input('Enter your status')\n",
    "    salary = int(input('Enter your salary: '))\n",
    "    department = input('Enter your department: ')\n",
    "    position = input('Enter your position: ')\n",
    "    date = input('Enter date \"YYYY-M-D\": ')\n",
    "    vals = (name,status,salary,department,position,date)\n",
    "    sql = \"INSERT INTO IT(name,status,salary,department,position,high_date) VALUES(%s,%s,%s,%s,%s,%s)\"\n",
    "    cursor.execute(sql,vals)\n",
    "    mydb.commit()\n",
    "    print('Data has been inserted!!!')\n",
    "    print('Do you want to continue?')\n",
    "    value = int(input(\"Enter 1 to continue and 0 to quit\"))\n",
    "    if value == 1:\n",
    "        pass\n",
    "    elif value == 0:\n",
    "        print('Thank you!!')\n",
    "        counter = False\n",
    "    else:\n",
    "        break"
   ]
  },
  {
   "cell_type": "markdown",
   "id": "5b342058",
   "metadata": {},
   "source": [
    "###### fetch all the data in your IT table \n",
    "* add list\n",
    "* add list in dictionary\n",
    "* print dictionary in DataFrame"
   ]
  },
  {
   "cell_type": "code",
   "execution_count": null,
   "id": "632f985b",
   "metadata": {},
   "outputs": [],
   "source": [
    "cursor.execute(\"SELECT * FROM IT\")\n",
    "rows = cursor.fetchall()"
   ]
  },
  {
   "cell_type": "code",
   "execution_count": null,
   "id": "a65947e0",
   "metadata": {},
   "outputs": [],
   "source": [
    "mylist = []"
   ]
  },
  {
   "cell_type": "code",
   "execution_count": null,
   "id": "741ac0a6",
   "metadata": {},
   "outputs": [],
   "source": [
    "for row in rows:\n",
    "    mylist.append({'id':row[0], 'name':row[1], 'status':row[2], 'salary':row[3], 'department':row[4], 'position':row[5], 'data':row[6]})"
   ]
  },
  {
   "cell_type": "code",
   "execution_count": null,
   "id": "72050301",
   "metadata": {},
   "outputs": [],
   "source": [
    "mysql_df = pd.DataFrame(mylist)\n",
    "mysql_df"
   ]
  },
  {
   "cell_type": "markdown",
   "id": "4e54b839",
   "metadata": {},
   "source": [
    "# Mongo Data Source\n",
    "* using Mongo compass to run"
   ]
  },
  {
   "cell_type": "markdown",
   "id": "82c38a97",
   "metadata": {},
   "source": [
    "###### initialize a mongo connection"
   ]
  },
  {
   "cell_type": "code",
   "execution_count": null,
   "id": "d4b2cb13",
   "metadata": {},
   "outputs": [],
   "source": [
    "myclient = pymongo.MongoClient('mongodb://localhost:27017') "
   ]
  },
  {
   "cell_type": "markdown",
   "id": "c366fd0c",
   "metadata": {},
   "source": [
    "###### steps\n",
    "* Create a database\n",
    "* Create a table in the database\n",
    "* add necessary columns"
   ]
  },
  {
   "cell_type": "code",
   "execution_count": null,
   "id": "30a81b0a",
   "metadata": {},
   "outputs": [],
   "source": [
    "mydb = myclient['allemployees']"
   ]
  },
  {
   "cell_type": "code",
   "execution_count": null,
   "id": "5436f685",
   "metadata": {},
   "outputs": [],
   "source": [
    "mycol = mydb['transactions']"
   ]
  },
  {
   "cell_type": "code",
   "execution_count": null,
   "id": "1189b9a5",
   "metadata": {},
   "outputs": [],
   "source": [
    "columns = [\"id\",\"name\",\"product\",\"amount\",\"saleprice\",\"status\",\"date\"]"
   ]
  },
  {
   "cell_type": "markdown",
   "id": "a81ce7bb",
   "metadata": {},
   "source": [
    "###### create a counter"
   ]
  },
  {
   "cell_type": "code",
   "execution_count": null,
   "id": "301d2b48",
   "metadata": {},
   "outputs": [],
   "source": [
    "counter = True\n",
    "while counter:\n",
    "    user_id = input(\"Id: \")\n",
    "    name = input(\"Name: \")\n",
    "    product= input(\"Product: \")\n",
    "    amount = int(input(\"Amount: \"))\n",
    "    saleprice = float(input(\"Saleprice: \"))\n",
    "    status = input(\"Status: \")\n",
    "    date = input(\"Date YYYY-M-D: \")\n",
    "\n",
    "    mydict = {\"_id\":user_id,\"name\":name,\"product\":product,\"amount\":amount,\"saleprice\":saleprice,\"status\":status,\"date\":date}\n",
    "    x = mycol.insert_one(mydict)\n",
    "\n",
    "    print('Data has been inserted!!!')\n",
    "    print('Do you want to continue?')\n",
    "    value = int(input(\"Enter 1 to continue and 0 to quit: \"))\n",
    "    if value == 1:\n",
    "        pass\n",
    "    elif value == 0:\n",
    "        print('Thank you!!')\n",
    "        counter = False\n",
    "    else:\n",
    "        break"
   ]
  },
  {
   "cell_type": "markdown",
   "id": "811f452d",
   "metadata": {},
   "source": [
    "###### same with previous steps in sql but different approach\n",
    "###### fetch all the data in your Transaction table \n",
    "* call all data in a column and run in x or any letter of your choice\n",
    "* add list\n",
    "* pass the data in the x runned earlier\n",
    "* append the data into the list\n",
    "* add list in dictionary\n",
    "* print dictionary in DataFrame"
   ]
  },
  {
   "cell_type": "code",
   "execution_count": null,
   "id": "7a195fba",
   "metadata": {},
   "outputs": [],
   "source": [
    "x = mycol.find()\n",
    "x"
   ]
  },
  {
   "cell_type": "code",
   "execution_count": null,
   "id": "77eacf9d",
   "metadata": {},
   "outputs": [],
   "source": [
    "mylist = []"
   ]
  },
  {
   "cell_type": "code",
   "execution_count": null,
   "id": "14712274",
   "metadata": {},
   "outputs": [],
   "source": [
    "for data in x:\n",
    "    mylist.append(data)\n",
    "    print(data)"
   ]
  },
  {
   "cell_type": "code",
   "execution_count": null,
   "id": "14d379ca",
   "metadata": {},
   "outputs": [],
   "source": [
    "print(mylist)"
   ]
  },
  {
   "cell_type": "code",
   "execution_count": null,
   "id": "43fb98a6",
   "metadata": {},
   "outputs": [],
   "source": [
    "mongoDB_df = pd.DataFrame(mylist)\n",
    "mongoDB_df"
   ]
  },
  {
   "cell_type": "markdown",
   "id": "deb159fa",
   "metadata": {},
   "source": [
    "###### create a new column called total that multiplies the amount and the sales price"
   ]
  },
  {
   "cell_type": "code",
   "execution_count": null,
   "id": "89f80079",
   "metadata": {},
   "outputs": [],
   "source": [
    "mongoDB_df['total'] = mongoDB_df['amount'] * mongoDB_df['saleprice']\n",
    "mongoDB_df"
   ]
  },
  {
   "cell_type": "markdown",
   "id": "56d0d91d",
   "metadata": {},
   "source": [
    "# Pull data Together\n",
    "###### pull all the dataframes created\n",
    "* The sql daraframe\n",
    "* the sqllite3 dataframe\n",
    "* the mongodb dataframe"
   ]
  },
  {
   "cell_type": "code",
   "execution_count": null,
   "id": "2a3c7ed0",
   "metadata": {},
   "outputs": [],
   "source": [
    "mysql_df"
   ]
  },
  {
   "cell_type": "code",
   "execution_count": null,
   "id": "3368d0e4",
   "metadata": {},
   "outputs": [],
   "source": [
    "sqlite3_df"
   ]
  },
  {
   "cell_type": "code",
   "execution_count": null,
   "id": "7602c0fc",
   "metadata": {},
   "outputs": [],
   "source": [
    "mongoDB_df"
   ]
  },
  {
   "cell_type": "markdown",
   "id": "5c9df58e",
   "metadata": {},
   "source": [
    "# Create a Data Warehouse (Using MySQL)\n",
    "\n",
    "* N.B. MySQL is ran by xampp and MyPhp in browser -- localhost"
   ]
  },
  {
   "cell_type": "markdown",
   "id": "37938fdb",
   "metadata": {},
   "source": [
    "###### Connect to MySQL Server"
   ]
  },
  {
   "cell_type": "code",
   "execution_count": null,
   "id": "609d4248",
   "metadata": {},
   "outputs": [],
   "source": [
    "mydb = mysql.connector.connect(host=\"localhost\",user=\"root\",password=\"\")"
   ]
  },
  {
   "cell_type": "markdown",
   "id": "19a9e374",
   "metadata": {},
   "source": [
    "###### Create a Cursor object for ex"
   ]
  },
  {
   "cell_type": "code",
   "execution_count": null,
   "id": "b820cb6d",
   "metadata": {},
   "outputs": [],
   "source": [
    "cursor = mydb.cursor()"
   ]
  },
  {
   "cell_type": "markdown",
   "id": "e0952e78",
   "metadata": {},
   "source": [
    "###### Create Database warehouse in MySQL"
   ]
  },
  {
   "cell_type": "code",
   "execution_count": null,
   "id": "b1df3b3c",
   "metadata": {},
   "outputs": [],
   "source": [
    "cursor.execute(\"CREATE DATABASE datawarehouse\")"
   ]
  },
  {
   "cell_type": "markdown",
   "id": "160faf8e",
   "metadata": {},
   "source": [
    "###### Connect to MySQL Server Datawarehouse"
   ]
  },
  {
   "cell_type": "code",
   "execution_count": null,
   "id": "a39aca21",
   "metadata": {},
   "outputs": [],
   "source": [
    "mydb = mysql.connector.connect(host=\"localhost\",user=\"root\",password=\"\",database='datawarehouse')"
   ]
  },
  {
   "cell_type": "markdown",
   "id": "b623cb69",
   "metadata": {},
   "source": [
    "###### Create a Cursor object for Datawarehouse"
   ]
  },
  {
   "cell_type": "code",
   "execution_count": null,
   "id": "8542b6cb",
   "metadata": {},
   "outputs": [],
   "source": [
    "cursor = mydb.cursor()"
   ]
  },
  {
   "cell_type": "markdown",
   "id": "74bf5506",
   "metadata": {},
   "source": [
    "# Load Functions for MySQL"
   ]
  },
  {
   "cell_type": "markdown",
   "id": "a246e437",
   "metadata": {},
   "source": [
    "* table_name from created tables in each database\n",
    "* load created dataframe into dictionary\n",
    "* insert each table entity into the sql\n",
    "* load data from each table entity counter"
   ]
  },
  {
   "cell_type": "code",
   "execution_count": null,
   "id": "d101c20f",
   "metadata": {},
   "outputs": [],
   "source": [
    "def create_table(table_name):\n",
    "    cursor.execute(f\"CREATE TABLE {table_name} (id INT AUTO_INCREMENT PRIMARY KEY, name VARCHAR(255), status VARCHAR(255), salary INT, department VARCHAR(255), position VARCHAR(255), high_date VARCHAR(255))\")\n",
    "    mydb.commit()"
   ]
  },
  {
   "cell_type": "code",
   "execution_count": null,
   "id": "3f375b24",
   "metadata": {},
   "outputs": [],
   "source": [
    "def convert_dataframe(dataframe):\n",
    "    data_dict = dataframe.to_dict()\n",
    "    return data_dict"
   ]
  },
  {
   "cell_type": "code",
   "execution_count": null,
   "id": "33386ded",
   "metadata": {},
   "outputs": [],
   "source": [
    "def insert_query(table):\n",
    "    sql = f\"INSERT INTO {table}(name,status,salary,department,position,high_date) VALUES(%s,%s,%s,%s,%s,%s)\"\n",
    "    return sql"
   ]
  },
  {
   "cell_type": "code",
   "execution_count": null,
   "id": "6712c401",
   "metadata": {},
   "outputs": [],
   "source": [
    "def load(data_dict,sql):\n",
    "    counter = len(data_dict[\"name\"].values())-1\n",
    "\n",
    "    while counter >= 0:\n",
    "        global name\n",
    "        name = data_dict['name'][counter]\n",
    "        global status\n",
    "        status = data_dict['status'][counter]\n",
    "        global salary\n",
    "        salary = data_dict['salary'][counter]\n",
    "        global department\n",
    "        department = data_dict['department'][counter]\n",
    "        global position\n",
    "        position = data_dict['position'][counter]\n",
    "        global date\n",
    "        date = data_dict['data'][counter]\n",
    "        vals = (name,status,salary,department,position,date)\n",
    "        cursor.execute(sql,vals)\n",
    "        mydb.commit()\n",
    "\n",
    "        counter -= 1\n",
    "        if counter == 0:\n",
    "            print(\"All data has been inserted!!!\")"
   ]
  },
  {
   "cell_type": "markdown",
   "id": "d0a4e70c",
   "metadata": {},
   "source": [
    "# Load Function for MongoDB"
   ]
  },
  {
   "cell_type": "markdown",
   "id": "41b5a8f7",
   "metadata": {},
   "source": [
    "* table_name from created tables in each database\n",
    "* insert each table entity into the sql\n",
    "* load data from each table entity counter"
   ]
  },
  {
   "cell_type": "code",
   "execution_count": null,
   "id": "7c0c0620",
   "metadata": {},
   "outputs": [],
   "source": [
    "def create_table_mdb(table_name):\n",
    "    cursor.execute(f\"CREATE TABLE {table_name} (id INT AUTO_INCREMENT PRIMARY KEY, name VARCHAR(255), product VARCHAR(255), amount INT, saleprice INT, status VARCHAR(255), date VARCHAR(255), total VARCHAR(255))\")\n",
    "    mydb.commit()"
   ]
  },
  {
   "cell_type": "code",
   "execution_count": null,
   "id": "99d44317",
   "metadata": {},
   "outputs": [],
   "source": [
    "def insert_query_mdb(table):\n",
    "    sql = f\"INSERT INTO {table}(name,product,amount,saleprice,status,date,total) VALUES(%s,%s,%s,%s,%s,%s,%s)\"\n",
    "    return sql"
   ]
  },
  {
   "cell_type": "code",
   "execution_count": null,
   "id": "5d9ddf78",
   "metadata": {},
   "outputs": [],
   "source": [
    "def load_mdb(data_dict,sql):\n",
    "    counter = len(data_dict[\"name\"].values())-1\n",
    "\n",
    "    while counter >= 0:\n",
    "        global name\n",
    "        name = data_dict['name'][counter]\n",
    "        global product\n",
    "        product = data_dict['product'][counter]\n",
    "        global amount\n",
    "        amount = data_dict['amount'][counter]\n",
    "        global saleprice\n",
    "        saleprice = data_dict['saleprice'][counter]\n",
    "        global status\n",
    "        status = data_dict['status'][counter]\n",
    "        global date\n",
    "        date = data_dict['date'][counter]\n",
    "        global total\n",
    "        total = data_dict['total'][counter]\n",
    "        vals = (name,product,amount,saleprice,status,date,total)\n",
    "        cursor.execute(sql,vals)\n",
    "        mydb.commit()\n",
    "\n",
    "        counter -= 1\n",
    "        if counter == 0:\n",
    "            print(\"All data has been inserted!!!\")"
   ]
  },
  {
   "cell_type": "markdown",
   "id": "2047923e",
   "metadata": {},
   "source": [
    "###### At this point each table for each database has been created in the Datawarehouse. Next step is to store all the datasource of each database into it's own placeholder"
   ]
  },
  {
   "cell_type": "markdown",
   "id": "ba2cbd56",
   "metadata": {},
   "source": [
    "# MySQL Table in Datawarehouse to store MySQL data source"
   ]
  },
  {
   "cell_type": "markdown",
   "id": "04b43720",
   "metadata": {},
   "source": [
    "* create table\n",
    "* passed saved dataframe into a database dictionary\n",
    "* load dictionary and table"
   ]
  },
  {
   "cell_type": "code",
   "execution_count": null,
   "id": "f3cc7210",
   "metadata": {},
   "outputs": [],
   "source": [
    "create_table(\"IT\")"
   ]
  },
  {
   "cell_type": "code",
   "execution_count": null,
   "id": "eac7e1c0",
   "metadata": {},
   "outputs": [],
   "source": [
    "mysql_dict = convert_dataframe(mysql_df)\n",
    "mysql_dict.pop('id')\n",
    "mysql_dict"
   ]
  },
  {
   "cell_type": "code",
   "execution_count": null,
   "id": "75ec507c",
   "metadata": {},
   "outputs": [],
   "source": [
    "sql = insert_query(\"IT\")\n",
    "load(mysql_dict,sql)"
   ]
  },
  {
   "cell_type": "markdown",
   "id": "50cb3a2c",
   "metadata": {},
   "source": [
    "# SQLITE3 Table in Datawarehouse to store SQLite3 data source"
   ]
  },
  {
   "cell_type": "markdown",
   "id": "5eb1dec0",
   "metadata": {},
   "source": [
    "* create table\n",
    "* passed saved dataframe into a database dictionary\n",
    "* load dictionary and table"
   ]
  },
  {
   "cell_type": "code",
   "execution_count": null,
   "id": "8d4f1f88",
   "metadata": {},
   "outputs": [],
   "source": [
    "create_table(\"HR\")"
   ]
  },
  {
   "cell_type": "code",
   "execution_count": null,
   "id": "2cab38c1",
   "metadata": {},
   "outputs": [],
   "source": [
    "sqlite3_dict = convert_dataframe(sqlite3_df)\n",
    "sqlite3_dict.pop(\"id\")\n",
    "sqlite3_dict"
   ]
  },
  {
   "cell_type": "code",
   "execution_count": null,
   "id": "daa9c783",
   "metadata": {},
   "outputs": [],
   "source": [
    "sql = insert_query(\"HR\")\n",
    "load(sqlite3_dict,sql)"
   ]
  },
  {
   "cell_type": "markdown",
   "id": "cd8b7350",
   "metadata": {},
   "source": [
    "# MongoDB Table in Datawarehouse to store MongoDB data source"
   ]
  },
  {
   "cell_type": "markdown",
   "id": "95cce543",
   "metadata": {},
   "source": [
    "* create table\n",
    "* passed saved dataframe into a database dictionary\n",
    "* load dictionary and table"
   ]
  },
  {
   "cell_type": "code",
   "execution_count": null,
   "id": "c0df6398",
   "metadata": {},
   "outputs": [],
   "source": [
    "create_table_mdb(\"transactions\")"
   ]
  },
  {
   "cell_type": "code",
   "execution_count": null,
   "id": "b38fe9f2",
   "metadata": {},
   "outputs": [],
   "source": [
    "mongodb_dict = convert_dataframe(mongoDB_df)\n",
    "mongodb_dict.pop(\"_id\")\n",
    "mongodb_dict"
   ]
  },
  {
   "cell_type": "code",
   "execution_count": null,
   "id": "13c7f303",
   "metadata": {},
   "outputs": [],
   "source": [
    "sql = insert_query_mdb(\"transactions\")\n",
    "load_mdb(mongodb_dict,sql)"
   ]
  },
  {
   "cell_type": "markdown",
   "id": "ca497fb2",
   "metadata": {},
   "source": [
    "##### By now, all tables with data's will have been stored in the datawarehouse.\n",
    "* Go to localhost on browser,\n",
    "* click on MyPhp \n",
    "* click on the newly created datawarehouse or whatever name you saved your combined database\n",
    "* each indib"
   ]
  },
  {
   "cell_type": "code",
   "execution_count": null,
   "id": "c1c5e132",
   "metadata": {},
   "outputs": [],
   "source": []
  }
 ],
 "metadata": {
  "kernelspec": {
   "display_name": "Python 3",
   "language": "python",
   "name": "python3"
  },
  "language_info": {
   "codemirror_mode": {
    "name": "ipython",
    "version": 3
   },
   "file_extension": ".py",
   "mimetype": "text/x-python",
   "name": "python",
   "nbconvert_exporter": "python",
   "pygments_lexer": "ipython3",
   "version": "3.8.8"
  }
 },
 "nbformat": 4,
 "nbformat_minor": 5
}
