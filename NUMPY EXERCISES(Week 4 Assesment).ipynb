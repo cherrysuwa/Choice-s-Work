{
 "cells": [
  {
   "cell_type": "markdown",
   "id": "6c361ebd",
   "metadata": {},
   "source": [
    "## Write a NumPy program to test whether none of the elements of a given array is zero."
   ]
  },
  {
   "cell_type": "code",
   "execution_count": 1,
   "id": "1fff47d8",
   "metadata": {},
   "outputs": [],
   "source": [
    "import numpy as np"
   ]
  },
  {
   "cell_type": "code",
   "execution_count": 31,
   "id": "6d7e9e21",
   "metadata": {},
   "outputs": [
    {
     "name": "stdout",
     "output_type": "stream",
     "text": [
      "[20 23  8  9 15]\n",
      "True\n",
      "[ 0 20  8  9 23]\n",
      "False\n"
     ]
    }
   ],
   "source": [
    "x = np.array([20, 23, 8, 9, 15])\n",
    "print(x)\n",
    "print(np.all(x))\n",
    "\n",
    "y = np.array([0, 20, 8, 9, 23])\n",
    "print(y)\n",
    "print(np.all(y))"
   ]
  },
  {
   "cell_type": "markdown",
   "id": "c277fc97",
   "metadata": {},
   "source": [
    "## Write a NumPy program to test whether any of the elements of a given array is non-zero."
   ]
  },
  {
   "cell_type": "code",
   "execution_count": 33,
   "id": "c1e95629",
   "metadata": {},
   "outputs": [
    {
     "name": "stdout",
     "output_type": "stream",
     "text": [
      "[ 0 23  8  9 15]\n",
      "Test whether any of the elements of a given array is non-zero:\n",
      "True\n",
      "[0 0 0 0 0]\n",
      "Test whether any of the elements of a given array is non-zero:\n",
      "False\n"
     ]
    }
   ],
   "source": [
    "x = np.array([0, 23, 8, 9, 15])\n",
    "print(x)\n",
    "print(\"Test whether any of the elements of a given array is non-zero:\")\n",
    "print(np.any(x))\n",
    "\n",
    "y = np.array([0, 0, 0, 0, 0])\n",
    "print(y)\n",
    "print(\"Test whether any of the elements of a given array is non-zero:\")\n",
    "print(np.all(y))"
   ]
  },
  {
   "cell_type": "markdown",
   "id": "8ae0f8ee",
   "metadata": {},
   "source": [
    "## Write a NumPy program to test a given array element-wise for finiteness (not infinity or not a Number).\n"
   ]
  },
  {
   "cell_type": "code",
   "execution_count": 34,
   "id": "300cf357",
   "metadata": {},
   "outputs": [
    {
     "name": "stdout",
     "output_type": "stream",
     "text": [
      "Original array\n",
      "[ 1.  0. nan inf]\n",
      "Test a given array element-wise for finiteness :\n",
      "[ True  True False False]\n"
     ]
    }
   ],
   "source": [
    "x = np.array([1, 0, np.nan, np.inf])\n",
    "print(\"Original array\")\n",
    "print(x)\n",
    "print(\"Test a given array element-wise for finiteness :\")\n",
    "print(np.isfinite(x))"
   ]
  },
  {
   "cell_type": "markdown",
   "id": "649b0350",
   "metadata": {},
   "source": [
    "## Write a NumPy program to test element-wise for positive or negative infinity."
   ]
  },
  {
   "cell_type": "code",
   "execution_count": 36,
   "id": "63e6afa8",
   "metadata": {},
   "outputs": [
    {
     "name": "stdout",
     "output_type": "stream",
     "text": [
      "Original array\n",
      "[ 1.  0. nan inf]\n",
      "Test element-wise for positive or negative infinity:\n",
      "[False False False  True]\n"
     ]
    }
   ],
   "source": [
    "import numpy as np\n",
    "x = np.array([1, 0, np.nan, np.inf])\n",
    "print(\"Original array\")\n",
    "print(x)\n",
    "print(\"Test element-wise for positive or negative infinity:\")\n",
    "print(np.isinf(x))"
   ]
  },
  {
   "cell_type": "markdown",
   "id": "8fe56ef0",
   "metadata": {},
   "source": [
    " ## Write a NumPy program to test element-wise for NaN of a given array."
   ]
  },
  {
   "cell_type": "code",
   "execution_count": 37,
   "id": "0c352a01",
   "metadata": {},
   "outputs": [
    {
     "name": "stdout",
     "output_type": "stream",
     "text": [
      "Original array\n",
      "[ 1.  0. nan inf]\n",
      "Test element-wise for NaN:\n",
      "[False False  True False]\n"
     ]
    }
   ],
   "source": [
    "x = np.array([1, 0, np.nan, np.inf])\n",
    "print(\"Original array\")\n",
    "print(x)\n",
    "print(\"Test element-wise for NaN:\")\n",
    "print(np.isnan(x))"
   ]
  },
  {
   "cell_type": "markdown",
   "id": "677036f0",
   "metadata": {},
   "source": [
    "## Write a NumPy program to test element-wise for complex number, real number of a given array. Also test whether a given number is a scalar type or not."
   ]
  },
  {
   "cell_type": "code",
   "execution_count": 39,
   "id": "54efb59d",
   "metadata": {},
   "outputs": [
    {
     "name": "stdout",
     "output_type": "stream",
     "text": [
      "Original array\n",
      "[1 2]\n",
      "Checking for complex number:\n",
      "[ True False False False False  True]\n",
      "Checking for real number:\n",
      "[False  True  True  True  True False]\n",
      "Checking for scalar type:\n",
      "True\n",
      "False\n"
     ]
    }
   ],
   "source": [
    "x = np.array([1+1j, 1+0j, 4.5, 3, 2, 2j])\n",
    "print(\"Original array\")\n",
    "print(a)\n",
    "print(\"Checking for complex number:\")\n",
    "print(np.iscomplex(x))\n",
    "print(\"Checking for real number:\")\n",
    "print(np.isreal(x))\n",
    "print(\"Checking for scalar type:\")\n",
    "print(np.isscalar(3.1))\n",
    "print(np.isscalar([3.1]))"
   ]
  },
  {
   "cell_type": "markdown",
   "id": "7cd56c54",
   "metadata": {},
   "source": [
    "## Write a NumPy program to test whether two arrays are element-wise equal within a tolerance."
   ]
  },
  {
   "cell_type": "code",
   "execution_count": 40,
   "id": "03ae459e",
   "metadata": {},
   "outputs": [
    {
     "name": "stdout",
     "output_type": "stream",
     "text": [
      "Test if two arrays are element-wise equal within a tolerance:\n",
      "False\n",
      "True\n",
      "False\n",
      "False\n",
      "True\n"
     ]
    }
   ],
   "source": [
    "print(\"Test if two arrays are element-wise equal within a tolerance:\")\n",
    "print(np.allclose([1e10,1e-7], [1.00001e10,1e-8]))\n",
    "print(np.allclose([1e10,1e-8], [1.00001e10,1e-9]))\n",
    "print(np.allclose([1e10,1e-8], [1.0001e10,1e-9]))\n",
    "print(np.allclose([1.0, np.nan], [1.0, np.nan]))\n",
    "print(np.allclose([1.0, np.nan], [1.0, np.nan], equal_nan=True))"
   ]
  },
  {
   "cell_type": "markdown",
   "id": "5a795a9e",
   "metadata": {},
   "source": [
    "## Write a NumPy program to create an element-wise comparison (greater, greater_equal, less and less_equal) of two given arrays."
   ]
  },
  {
   "cell_type": "code",
   "execution_count": 41,
   "id": "275c6ca4",
   "metadata": {},
   "outputs": [
    {
     "name": "stdout",
     "output_type": "stream",
     "text": [
      "Original numbers:\n",
      "[3 5]\n",
      "[2 5]\n",
      "Comparison - greater\n",
      "[ True False]\n",
      "Comparison - greater_equal\n",
      "[ True  True]\n",
      "Comparison - less\n",
      "[False False]\n",
      "Comparison - less_equal\n",
      "[False  True]\n"
     ]
    }
   ],
   "source": [
    "x = np.array([3, 5])\n",
    "y = np.array([2, 5])\n",
    "print(\"Original numbers:\")\n",
    "print(x)\n",
    "print(y)\n",
    "print(\"Comparison - greater\")\n",
    "print(np.greater(x, y))\n",
    "print(\"Comparison - greater_equal\")\n",
    "print(np.greater_equal(x, y))\n",
    "print(\"Comparison - less\")\n",
    "print(np.less(x, y))\n",
    "print(\"Comparison - less_equal\")\n",
    "print(np.less_equal(x, y))"
   ]
  },
  {
   "cell_type": "markdown",
   "id": "b34663b0",
   "metadata": {},
   "source": [
    "## Write a NumPy program to create an element-wise comparison (equal, equal within a tolerance) of two given arrays."
   ]
  },
  {
   "cell_type": "code",
   "execution_count": 42,
   "id": "a58e5ee2",
   "metadata": {},
   "outputs": [
    {
     "name": "stdout",
     "output_type": "stream",
     "text": [
      "Original numbers:\n",
      "[  75   77   80   95  170 -125  110  -20   70  100]\n",
      "[  75.         77.         80.         95.        170.       -125.\n",
      "  110.        -20.         70.        100.000001]\n",
      "Comparison - equal:\n",
      "[ True  True  True  True  True  True  True  True  True False]\n",
      "Comparison - equal within a tolerance:\n",
      "True\n"
     ]
    }
   ],
   "source": [
    "x = np.array([75, 77, 80, 95, 170, -125, 110, -20, 70, 100])\n",
    "y = np.array([75, 77, 80, 95, 170, -125, 110, -20, 70, 100.000001])\n",
    "print(\"Original numbers:\")\n",
    "print(x)\n",
    "print(y)\n",
    "print(\"Comparison - equal:\")\n",
    "print(np.equal(x, y))\n",
    "print(\"Comparison - equal within a tolerance:\")\n",
    "print(np.allclose(x, y))"
   ]
  },
  {
   "cell_type": "markdown",
   "id": "f6bee9a5",
   "metadata": {},
   "source": [
    "## Write a NumPy program to create an array with the values 1, 7, 13, 105 and determine the size of the memory occupied by the array."
   ]
  },
  {
   "cell_type": "code",
   "execution_count": 43,
   "id": "8a0c85bc",
   "metadata": {},
   "outputs": [
    {
     "name": "stdout",
     "output_type": "stream",
     "text": [
      "Original array:\n",
      "[  1   7  13 105]\n",
      "Size of the memory occupied by the said array:\n",
      "16 bytes\n"
     ]
    }
   ],
   "source": [
    "X = np.array([1, 7, 13, 105])\n",
    "print(\"Original array:\")\n",
    "print(X)\n",
    "print(\"Size of the memory occupied by the said array:\")\n",
    "print(\"%d bytes\" % (X.size * X.itemsize))"
   ]
  },
  {
   "cell_type": "code",
   "execution_count": null,
   "id": "54b45761",
   "metadata": {},
   "outputs": [],
   "source": [
    "\n"
   ]
  }
 ],
 "metadata": {
  "kernelspec": {
   "display_name": "Python 3",
   "language": "python",
   "name": "python3"
  },
  "language_info": {
   "codemirror_mode": {
    "name": "ipython",
    "version": 3
   },
   "file_extension": ".py",
   "mimetype": "text/x-python",
   "name": "python",
   "nbconvert_exporter": "python",
   "pygments_lexer": "ipython3",
   "version": "3.8.8"
  }
 },
 "nbformat": 4,
 "nbformat_minor": 5
}
