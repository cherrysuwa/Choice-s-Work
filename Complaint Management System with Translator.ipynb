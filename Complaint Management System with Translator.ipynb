{
 "cells": [
  {
   "cell_type": "code",
   "execution_count": 1,
   "id": "9767c549",
   "metadata": {},
   "outputs": [],
   "source": [
    "import json"
   ]
  },
  {
   "cell_type": "code",
   "execution_count": 2,
   "id": "c613296c",
   "metadata": {},
   "outputs": [
    {
     "name": "stdout",
     "output_type": "stream",
     "text": [
      "{\"data\":{\"translations\":[{\"translatedText\":\"¡Hola Mundo!\"}]}}\n"
     ]
    }
   ],
   "source": [
    "\n",
    "\n",
    "import requests\n",
    "\n",
    "url = \"https://google-translate1.p.rapidapi.com/language/translate/v2\"\n",
    "\n",
    "payload = \"q=Hello%2C%20world!&target=es&source=en\"\n",
    "headers = {\n",
    "    'content-type': \"application/x-www-form-urlencoded\",\n",
    "    'accept-encoding': \"application/gzip\",\n",
    "    'x-rapidapi-key': \"1320fa9c6cmsh56172d4afa7497fp128571jsn53c450212a23\",\n",
    "    'x-rapidapi-host': \"google-translate1.p.rapidapi.com\"\n",
    "    }\n",
    "\n",
    "response = requests.request(\"POST\", url, data=payload, headers=headers)\n",
    "\n",
    "print(response.text)\n"
   ]
  },
  {
   "cell_type": "code",
   "execution_count": 3,
   "id": "f4635a97",
   "metadata": {},
   "outputs": [],
   "source": [
    "from datetime import datetime as dt"
   ]
  },
  {
   "cell_type": "code",
   "execution_count": 4,
   "id": "81a5c7e7",
   "metadata": {},
   "outputs": [],
   "source": [
    "# create signup page\n",
    "# create empty dictionary that marks the unique ID of the person to the complaint"
   ]
  },
  {
   "cell_type": "code",
   "execution_count": 5,
   "id": "0367c9be",
   "metadata": {},
   "outputs": [],
   "source": [
    "\n",
    "user_complain = {}\n",
    "\n",
    "def complain():\n",
    "    if user_complain:\n",
    "\n",
    "        name = input(\"Enter your name: \")\n",
    "        product_id = input(\"Enter the ID of the product you are laying complaint for: \")\n",
    "        date = input(\"Enter your date dd/mm/yy: \")\n",
    "        date = dt.now()\n",
    "        issue = input(\"Please enter your complaint: \")\n",
    "\n",
    "        if product_id in user_complain.keys() or name in user_complain.values() or date in user_complain.values() or issue in user_complain.values():\n",
    "            print('==========================')\n",
    "            yes_no = input(\"Your complaint has already been registered.\\n Do you want to register another complaint?!\\n Y for Yes and N for No: \")\n",
    "            if yes_no == \"Y\" or \"y\":\n",
    "                name = input(\"Enter your name: \")\n",
    "                product_id = input(\"Enter the ID of the product you are laying complaint for: \")\n",
    "                date = input(\"Enter your date dd/mm/yy: \")\n",
    "                date = dt.now()\n",
    "                issue = input(\"Please enter your complaint: \")\n",
    "                user_complain[product_id] = {\"name\": name, \"date\": date, \"complaint\": issue}\n",
    "                print('Complaint Submitted!')\n",
    "            elif yes_no == \"N\" or \"n\":\n",
    "                print(\"Thank you for using our application!\")\n",
    "            else:\n",
    "                print(\"You have entered an invalid response. Enter Y or N!!!\")\n",
    "        elif name == \"\" or product_id == \"\" or date == \"\" or issue == \"\":\n",
    "            print(\"You have not entered anything. Please don't stress me! Enter something!!\")\n",
    "    else:\n",
    "        name = input(\"Enter your name: \")\n",
    "        product_id = input(\"Enter the ID of the product you are laying complaint for: \")\n",
    "        date = input(\"Enter your date dd/mm/yy: \")\n",
    "        date = dt.now()\n",
    "        issue = input(\"Please enter your complaint: \")\n",
    "        user_complain[product_id] = {\"name\": name, \"date\": date, \"complaint\": issue}\n",
    "        print('Complaint Submitted!')\n",
    "\n",
    "\n"
   ]
  },
  {
   "cell_type": "code",
   "execution_count": 7,
   "id": "0878e73e",
   "metadata": {},
   "outputs": [
    {
     "name": "stdout",
     "output_type": "stream",
     "text": [
      "hello world\n"
     ]
    }
   ],
   "source": [
    "print (\"hello world\")\n",
    "\n"
   ]
  },
  {
   "cell_type": "code",
   "execution_count": null,
   "id": "3bac806a",
   "metadata": {},
   "outputs": [],
   "source": []
  },
  {
   "cell_type": "code",
   "execution_count": null,
   "id": "74a3d5d8",
   "metadata": {},
   "outputs": [],
   "source": []
  },
  {
   "cell_type": "code",
   "execution_count": null,
   "id": "f1487892",
   "metadata": {},
   "outputs": [],
   "source": []
  },
  {
   "cell_type": "code",
   "execution_count": null,
   "id": "2cb5db6f",
   "metadata": {},
   "outputs": [],
   "source": []
  },
  {
   "cell_type": "code",
   "execution_count": null,
   "id": "3b2a65ec",
   "metadata": {},
   "outputs": [],
   "source": []
  },
  {
   "cell_type": "code",
   "execution_count": null,
   "id": "650dec2b",
   "metadata": {},
   "outputs": [],
   "source": []
  },
  {
   "cell_type": "code",
   "execution_count": null,
   "id": "19d2370f",
   "metadata": {},
   "outputs": [],
   "source": []
  },
  {
   "cell_type": "code",
   "execution_count": null,
   "id": "53d2bb5c",
   "metadata": {},
   "outputs": [],
   "source": []
  },
  {
   "cell_type": "code",
   "execution_count": null,
   "id": "dee02cc3",
   "metadata": {},
   "outputs": [],
   "source": []
  },
  {
   "cell_type": "code",
   "execution_count": null,
   "id": "ff5272ad",
   "metadata": {},
   "outputs": [],
   "source": [
    "\n"
   ]
  }
 ],
 "metadata": {
  "kernelspec": {
   "display_name": "Python 3",
   "language": "python",
   "name": "python3"
  },
  "language_info": {
   "codemirror_mode": {
    "name": "ipython",
    "version": 3
   },
   "file_extension": ".py",
   "mimetype": "text/x-python",
   "name": "python",
   "nbconvert_exporter": "python",
   "pygments_lexer": "ipython3",
   "version": "3.8.8"
  }
 },
 "nbformat": 4,
 "nbformat_minor": 5
}
